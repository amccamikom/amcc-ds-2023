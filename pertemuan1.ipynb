{
 "cells": [
  {
   "cell_type": "markdown",
   "metadata": {},
   "source": [
    "variabel dan tipe data\n",
    "\n",
    "variabel adalah tempat untuk menyimpan suatu nilai, analogikan seperti kamu menyimpan suatu barang kedalam kotak, nah ketika kamu mau membawa nilainya cukup membawa kotaknya \n",
    "kotak itulah variabel\n",
    "\n",
    "tipe data merupakan tipe dari kotak tersebut "
   ]
  },
  {
   "cell_type": "code",
   "execution_count": null,
   "metadata": {},
   "outputs": [],
   "source": [
    "iniString = \"halo aku string\" # string -> tulisan\n",
    "print(iniString)\n",
    "\n",
    "iniInteger = 20 # int atau integer -> bilangan bulat\n",
    "print(iniInteger)\n",
    "print(type(iniInteger))\n",
    "\n",
    "iniFloat = 20.10 # float -> bilangan desimal (intinya yang ada koma)\n",
    "print(type(iniFloat))\n",
    "\n",
    "iniBooleanbenar = True # artinya benar\n",
    "iniBooleansalah = False # artinya salah\n",
    "\n",
    "\n"
   ]
  },
  {
   "cell_type": "markdown",
   "metadata": {},
   "source": [
    "operator (aritmatika,relasional,logika,bitwise,string)"
   ]
  },
  {
   "cell_type": "code",
   "execution_count": null,
   "metadata": {},
   "outputs": [],
   "source": [
    "\"\"\" \n",
    "  operator aritmatika\n",
    "\"\"\"\n",
    "\n",
    "panjang = 12\n",
    "lebar = 5\n",
    "\n",
    "print(panjang + lebar) # penjumlahan\n",
    "print(panjang - lebar) # pengurangan\n",
    "print(panjang * lebar) # perkalian\n",
    "print(panjang / lebar) # pembagian\n",
    "print(panjang % lebar) # modulus (sisa pembagian)\n",
    "print(panjang ** lebar) # pangkat\n",
    "\n",
    "print(\"\\n\")\n",
    "\n",
    "# operator relasional\n",
    "print(panjang > lebar) # lebih besar\n",
    "print(panjang < lebar) # lebih kecil\n",
    "print(panjang >= lebar) #lebih besar sama dengan\n",
    "print(panjang <= lebar) # lebih kecil sama dengan \n",
    "print(panjang == lebar) # sama dengan\n",
    "print(panjang != lebar) # tidak sama dengan\n",
    "\n",
    "\n",
    "\n",
    "\n",
    "\n"
   ]
  },
  {
   "cell_type": "code",
   "execution_count": null,
   "metadata": {},
   "outputs": [],
   "source": [
    "# operator logika\n",
    "\n",
    "\"\"\" \n",
    "    and -> jika kedua nilai benar maka hasilnya benar\n",
    "    or -> salah satu nilai benar maka hasilnya benar\n",
    "\"\"\"\n",
    "\n",
    "nilai = 90\n",
    "# ini adalah contoh penggunaan operator logika AND\n",
    "if nilai >= 80 and nilai <= 100:\n",
    "    print(\"nilai kamu A\")\n",
    "# ini adalah contoh penggunaan operator logika OR\n",
    "    print(\"hasil dari or\", true or false)"
   ]
  },
  {
   "cell_type": "code",
   "execution_count": null,
   "metadata": {},
   "outputs": [],
   "source": [
    "# operator bitwise\n",
    "\n",
    "x = 10\n",
    "y = 12\n",
    "\n",
    "print(\"x =  \", x, \"desimal atau\", bin(x), \"biner\")\n",
    "print(\"y =  \", y, \"desimal atau\", bin(y), \"biner\")\n",
    "\n",
    "print(\"\\n\")\n",
    "\n",
    "print(\"x & y = \", x & y, \"desimal atau\", bin(x & y), \"biner\")\n",
    "print(\"x | y = \", x | y, \"desimal atau\", bin(x | y), \"biner\")\n",
    "print(\"x ^ y = \", x ^ y, \"desimal atau\", bin(x ^ y), \"biner\")\n",
    "print(\"~x = \", ~x, \"desimal atau\", bin(~x), \"biner\")\n",
    "print(\"x << 2 = \", x << 2, \"desimal atau\", bin(x << 2), \"biner\")\n",
    "print(\"x >> 2 = \", x >> 2, \"desimal atau\", bin(x >> 2), \"biner\")\n",
    "\n",
    "print(\"\\n\")"
   ]
  },
  {
   "cell_type": "code",
   "execution_count": null,
   "metadata": {},
   "outputs": [],
   "source": [
    "# operator string\n",
    "aku = \"dinda\"\n",
    "kamu = \"budi\"\n",
    "\n",
    "print(aku, \" dan \", kamu)"
   ]
  },
  {
   "cell_type": "markdown",
   "metadata": {},
   "source": [
    "python string special operator"
   ]
  },
  {
   "cell_type": "code",
   "execution_count": 17,
   "metadata": {},
   "outputs": [
    {
     "name": "stdout",
     "output_type": "stream",
     "text": [
      "Data Science\n",
      "DataDataData\n",
      "D\n",
      "Dat\n",
      "True\n",
      "True\n",
      "\n",
      "\n",
      "\\n\n"
     ]
    }
   ],
   "source": [
    "a = \"Data\" # string -> [D,A,T,A]\n",
    "b = \" Science\"\n",
    "\n",
    "print(a + b) # gabungin string\n",
    "print(a * 3) # mengulang string 3 kali\n",
    "print(a[0]) # mengambil huruf dalam string dalam indek ke 0\n",
    "print(a[0:3]) # mengambil huruf dalam string dalam indek ke 0 sampai 3\n",
    "print(\"D\" in a) # cek apakah huruf d ada di dalam variabel a -> \"Data\"\n",
    "print(\"Z\" not in a) # cek apakah huruf z tidak ada di dalam variabel a -> \"Data\"\n",
    "print(\"\\n\") # BUAT SPASI AJA"
   ]
  },
  {
   "cell_type": "markdown",
   "metadata": {},
   "source": [
    "python string formatting"
   ]
  },
  {
   "cell_type": "code",
   "execution_count": 20,
   "metadata": {},
   "outputs": [
    {
     "name": "stdout",
     "output_type": "stream",
     "text": [
      "umur aku 20 tahun\n",
      "tinggi badan aku 173.500000 cm\n",
      "nama aku nawa \n"
     ]
    }
   ],
   "source": [
    "\"\"\" \n",
    "%s -> string\n",
    "%d -> integer\n",
    "%f -> float\n",
    "\"\"\"\n",
    "print(\"umur aku %d tahun\" % 20) # nyelipin variabel integer ke dalam string\n",
    "print(\"tinggi badan aku %f cm\" % 173.5) #nyelipin variabel float ke dalam string\n",
    "print(\"nama aku %s \" % \"nawa\") # nyelipin variabel string ke dalam string"
   ]
  },
  {
   "cell_type": "markdown",
   "metadata": {},
   "source": [
    "percabangan"
   ]
  },
  {
   "cell_type": "code",
   "execution_count": 26,
   "metadata": {},
   "outputs": [],
   "source": [
    "\"\"\" \n",
    "ketika orang nembak cewek\n",
    "\"\"\"\n",
    "\n",
    "jawaban = input(\"kamu mau ngk jadi pacar aku ? (y/g)\")\n",
    "\n",
    "if jawaban == \"y\":\n",
    "  print(\"aku sayang sama kamu\")\n",
    "elif jawaban == \"g\":\n",
    "  print(\"yaudah deh aku masih sayang kamu\")\n",
    "else:\n",
    "  print(\"kamu ngk jelas\")\n",
    "\n"
   ]
  },
  {
   "cell_type": "markdown",
   "metadata": {},
   "source": [
    "tipe data struktur (list,tuple,set,dictionary)"
   ]
  },
  {
   "cell_type": "code",
   "execution_count": 7,
   "metadata": {},
   "outputs": [
    {
     "name": "stdout",
     "output_type": "stream",
     "text": [
      "['asus', 'acer', 'lenovo', 'hp', 'dell', 'xiaomi']\n",
      "ROG\n"
     ]
    }
   ],
   "source": [
    "iniListMerekLaptop = [\"asus\", \"acer\", \"lenovo\", \"hp\", \"dell\"] # tandanya pake []\n",
    "iniListBMIAku = [\"nawa\",20,61,173.5,False]\n",
    "iniListMerekLaptop.append(\"xiaomi\")\n",
    "print(iniListMerekLaptop)\n",
    "\n",
    "iniTupleMerekLaptop = (\"asus\", \"acer\", \"lenovo\", \"hp\", \"dell\") # tandanya pake ()\n",
    "iniTupleBMIAku = (\"nawa\",20,61,173.5,False)\n",
    "\n",
    "iniSetMerekLaptop = {\"asus\", \"acer\", \"lenovo\", \"hp\", \"dell\"} # tandanya pake {}\n",
    "iniSetBMIAku = {\"nawa\",20,61,173.5,False}\n",
    "\n",
    "iniDictionaryMerekLaptop = { # bisa ngerinciin suatu objek\n",
    "  \"merek\" : \"asus\",\n",
    "  \"seri\" : \"ROG\",\n",
    "  \"berat\" : 2.5\n",
    "}\n",
    "\n",
    "print(iniDictionaryMerekLaptop[\"seri\"])\n",
    "\n"
   ]
  },
  {
   "cell_type": "markdown",
   "metadata": {},
   "source": [
    "perulangan (for,while) -> untuk melakukan perintah secara berulang-ulang "
   ]
  },
  {
   "cell_type": "code",
   "execution_count": null,
   "metadata": {},
   "outputs": [],
   "source": [
    "# for untuk melakukan perulangan yang kita tau berapa banyak perulangannya\n",
    "listMerekLaptop = [\"Asus\", \"Acer\", \"Lenovo\", \"HP\", \"Dell\"]\n",
    "\n",
    "for i in range(5): # I merupakan variabel untuk melakukan perulangan\n",
    "  print(i)\n",
    "  \n",
    "  for amikom in listMerekLaptop: # amikom merupakan variabel untuk melakukan perulangan\n",
    "    print(amikom)\n",
    "\n",
    "\n",
    "\n"
   ]
  },
  {
   "cell_type": "code",
   "execution_count": null,
   "metadata": {},
   "outputs": [],
   "source": [
    "\"\"\" \n",
    "  WHILE ITU DIGUNAKAN UNTUK PERULANGAN YANG MEMILIKI KONDISI\n",
    "\"\"\"\n",
    "\n",
    "lagiNgk = \"y\"\n",
    "i = 1\n",
    "while lagiNgk == \"y\":\n",
    "    print(i)\n",
    "    lagiNgk = input(\"lagi ngk ? (y/g)\")"
   ]
  },
  {
   "cell_type": "markdown",
   "metadata": {},
   "source": [
    "fungsi -> meringkas kode dalam satu nama"
   ]
  },
  {
   "cell_type": "code",
   "execution_count": 5,
   "metadata": {},
   "outputs": [
    {
     "name": "stdout",
     "output_type": "stream",
     "text": [
      "50\n"
     ]
    }
   ],
   "source": [
    "def hello_world():\n",
    "  print(\"hello world\")\n",
    "  \n",
    "def luas_persegi(panjang, lebar):\n",
    "  return panjang * lebar\n",
    "\n",
    "print(luas_persegi(10,5))\n",
    "\n",
    "\"\"\" \n",
    "  def -> untuk menandakan bahwa ini adalah function\n",
    "  luas_persegi -> nama function\n",
    "  panjang dan lebar -> parameter = variabel yang digunakan dalam function untuk melakukan operasi\n",
    "  return -> untuk mengembalikan nilai\n",
    "  \n",
    "  fungsi luas persegi sama aja kayak kalian menuliskan kode\n",
    "  panjang = 10\n",
    "  lebar = 5\n",
    "  print(panjang * lebar)\n",
    "  \n",
    "  daripada kalian nulis yang codingan diatas berulang kali, mending kalian buat function\n",
    "  tinggal panggil luas_persegi(10,5) -> 10 dan 5 itu adalah parameter\n",
    "  udah langsung keluar\n",
    "\"\"\"\n",
    "\n",
    "\n",
    "\n",
    "\n",
    "\n",
    "  "
   ]
  }
 ],
 "metadata": {
  "kernelspec": {
   "display_name": "base",
   "language": "python",
   "name": "python3"
  },
  "language_info": {
   "codemirror_mode": {
    "name": "ipython",
    "version": 3
   },
   "file_extension": ".py",
   "mimetype": "text/x-python",
   "name": "python",
   "nbconvert_exporter": "python",
   "pygments_lexer": "ipython3",
   "version": "0.0.0"
  }
 },
 "nbformat": 4,
 "nbformat_minor": 2
}
